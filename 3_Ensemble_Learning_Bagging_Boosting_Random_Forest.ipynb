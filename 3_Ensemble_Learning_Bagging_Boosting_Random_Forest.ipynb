{
 "cells": [
  {
   "cell_type": "markdown",
   "id": "b70c2c27",
   "metadata": {},
   "source": [
    "# Task 7: Conceptual Questions"
   ]
  },
  {
   "cell_type": "markdown",
   "id": "e95e9f99",
   "metadata": {},
   "source": [
    "Ques.1. What is the difference between Bagging and Boosting?\n",
    "\n",
    "Ans.1. \n",
    "\n",
    "| Aspect             |   Bagging                                                  |   Boosting                                                   |\n",
    "| ------------------ | ---------------------------------------------------------- | ------------------------------------------------------------ |\n",
    "| Purpose            | Reduces variance                                           | Reduces bias and variance                                    |\n",
    "| Technique          | Trains models independently in parallel                    | Trains models sequentially, each correcting the previous     |\n",
    "| Data Sampling      | Uses bootstrapped (random) samples                         | Uses weighted data based on previous errors                  |\n",
    "| Final Prediction   | Majority vote (classification) or average (regression)     | Weighted vote based on model accuracy                        |\n",
    "| Example Algorithms | Random Forest                                              | AdaBoost, Gradient Boosting                                  |\n"
   ]
  },
  {
   "cell_type": "markdown",
   "id": "d6625991",
   "metadata": {},
   "source": [
    "Ques.2. How does Random Forest reduce variance?\n",
    "\n",
    "Ans.2. Random Forest reduces variance by training multiple decision trees on different random subsets of the data and features (bagging). The final prediction is made by averaging (for regression) or majority voting (for classification), which smoothens out individual tree fluctuations, reducing overfitting and thereby lowering the model's variance."
   ]
  },
  {
   "cell_type": "markdown",
   "id": "16066d59",
   "metadata": {},
   "source": [
    "Ques.3. What is the weakness of boosting-based methods?\n",
    "\n",
    "Ans.3.\n",
    "\n",
    "The main weaknesses of boosting methods are:\n",
    "\n",
    "  1. Sensitivity to noisy data and outliers: Since boosting focuses on correcting errors, it may overfit to noisy samples.\n",
    "  2. Longer training time: Models are built sequentially, so it's computationally more expensive.\n",
    "  3. Complexity: Harder to tune and interpret compared to bagging methods."
   ]
  },
  {
   "cell_type": "markdown",
   "id": "32d46dae",
   "metadata": {},
   "source": [
    "# Task 8: Random Forest vs Decision Tree"
   ]
  },
  {
   "cell_type": "code",
   "execution_count": 2,
   "id": "bc2dc849",
   "metadata": {},
   "outputs": [
    {
     "name": "stderr",
     "output_type": "stream",
     "text": [
      "C:\\Users\\adity\\AppData\\Local\\Temp\\ipykernel_7044\\4207488572.py:14: SettingWithCopyWarning: \n",
      "A value is trying to be set on a copy of a slice from a DataFrame\n",
      "\n",
      "See the caveats in the documentation: https://pandas.pydata.org/pandas-docs/stable/user_guide/indexing.html#returning-a-view-versus-a-copy\n",
      "  df.dropna(inplace=True)\n",
      "C:\\Users\\adity\\AppData\\Local\\Temp\\ipykernel_7044\\4207488572.py:18: SettingWithCopyWarning: \n",
      "A value is trying to be set on a copy of a slice from a DataFrame.\n",
      "Try using .loc[row_indexer,col_indexer] = value instead\n",
      "\n",
      "See the caveats in the documentation: https://pandas.pydata.org/pandas-docs/stable/user_guide/indexing.html#returning-a-view-versus-a-copy\n",
      "  df['sex'] = le_sex.fit_transform(df['sex'])\n",
      "C:\\Users\\adity\\AppData\\Local\\Temp\\ipykernel_7044\\4207488572.py:19: SettingWithCopyWarning: \n",
      "A value is trying to be set on a copy of a slice from a DataFrame.\n",
      "Try using .loc[row_indexer,col_indexer] = value instead\n",
      "\n",
      "See the caveats in the documentation: https://pandas.pydata.org/pandas-docs/stable/user_guide/indexing.html#returning-a-view-versus-a-copy\n",
      "  df['embarked'] = le_embarked.fit_transform(df['embarked'])\n"
     ]
    },
    {
     "name": "stdout",
     "output_type": "stream",
     "text": [
      "\n",
      "Decision Tree Metrics:\n",
      "Accuracy : 0.7512\n",
      "Precision: 0.7162\n",
      "Recall   : 0.631\n",
      "\n",
      "Random Forest Metrics:\n",
      "Accuracy : 0.7799\n",
      "Precision: 0.8065\n",
      "Recall   : 0.5952\n"
     ]
    },
    {
     "data": {
      "image/png": "[encoded data removed]",
      "text/plain": [
       "<Figure size 800x500 with 1 Axes>"
      ]
     },
     "metadata": {},
     "output_type": "display_data"
    }
   ],
   "source": [
    "import pandas as pd\n",
    "from sklearn.model_selection import train_test_split\n",
    "from sklearn.preprocessing import LabelEncoder\n",
    "from sklearn.metrics import accuracy_score, precision_score, recall_score\n",
    "from sklearn.tree import DecisionTreeClassifier\n",
    "from sklearn.ensemble import RandomForestClassifier\n",
    "import matplotlib.pyplot as plt\n",
    "from sklearn.datasets import fetch_openml\n",
    "\n",
    "titanic = fetch_openml('titanic', version=1, as_frame=True)\n",
    "df = titanic.frame\n",
    "\n",
    "df = df[['survived', 'pclass', 'sex', 'age', 'fare', 'embarked']]\n",
    "df.dropna(inplace=True)\n",
    "\n",
    "le_sex = LabelEncoder()\n",
    "le_embarked = LabelEncoder()\n",
    "df['sex'] = le_sex.fit_transform(df['sex'])\n",
    "df['embarked'] = le_embarked.fit_transform(df['embarked'])\n",
    "\n",
    "X = df.drop('survived', axis=1)\n",
    "y = df['survived'].astype(int)\n",
    "\n",
    "X_train, X_test, y_train, y_test = train_test_split(X, y, test_size=0.2, random_state=42)\n",
    "\n",
    "dt = DecisionTreeClassifier(random_state=42)\n",
    "dt.fit(X_train, y_train)\n",
    "y_pred_dt = dt.predict(X_test)\n",
    "\n",
    "rf = RandomForestClassifier(n_estimators=100, random_state=42)\n",
    "rf.fit(X_train, y_train)\n",
    "y_pred_rf = rf.predict(X_test)\n",
    "\n",
    "def evaluate_model(name, y_true, y_pred):\n",
    "    print(f\"\\n{name} Metrics:\")\n",
    "    print(\"Accuracy :\", round(accuracy_score(y_true, y_pred), 4))\n",
    "    print(\"Precision:\", round(precision_score(y_true, y_pred), 4))\n",
    "    print(\"Recall   :\", round(recall_score(y_true, y_pred), 4))\n",
    "\n",
    "evaluate_model(\"Decision Tree\", y_test, y_pred_dt)\n",
    "evaluate_model(\"Random Forest\", y_test, y_pred_rf)\n",
    "\n",
    "importances = rf.feature_importances_\n",
    "features = X.columns\n",
    "plt.figure(figsize=(8, 5))\n",
    "plt.barh(features, importances, color='lightgreen')\n",
    "plt.xlabel(\"Feature Importance\")\n",
    "plt.title(\"Random Forest - Feature Importances\")\n",
    "plt.grid(True)\n",
    "plt.tight_layout()\n",
    "plt.show()"
   ]
  },
  {
   "cell_type": "markdown",
   "id": "c51aa98f",
   "metadata": {},
   "source": [
    "# Task 9: AdaBoost or Gradient Boosting"
   ]
  },
  {
   "cell_type": "code",
   "execution_count": 4,
   "id": "9f1779f7",
   "metadata": {},
   "outputs": [
    {
     "name": "stdout",
     "output_type": "stream",
     "text": [
      "\n",
      "Decision Tree Performance:\n",
      "Accuracy  : 1.0000\n",
      "F1-Score  : 1.0000\n",
      "Train Time: 0.0025 sec\n",
      "\n",
      "Random Forest Performance:\n",
      "Accuracy  : 1.0000\n",
      "F1-Score  : 1.0000\n",
      "Train Time: 0.1287 sec\n"
     ]
    }
   ],
   "source": [
    "import pandas as pd\n",
    "from sklearn.datasets import load_iris\n",
    "from sklearn.model_selection import train_test_split\n",
    "from sklearn.metrics import accuracy_score, f1_score\n",
    "from sklearn.tree import DecisionTreeClassifier\n",
    "from sklearn.ensemble import RandomForestClassifier, AdaBoostClassifier, GradientBoostingClassifier\n",
    "import time\n",
    "\n",
    "iris = load_iris(as_frame=True)\n",
    "X = iris.data\n",
    "y = iris.target\n",
    "\n",
    "X_train, X_test, y_train, y_test = train_test_split(X, y, test_size=0.2, random_state=42)\n",
    "\n",
    "def evaluate_model(name, model, X_train, X_test, y_train, y_test):\n",
    "    start = time.time()\n",
    "    model.fit(X_train, y_train)\n",
    "    end = time.time()\n",
    "\n",
    "    y_pred = model.predict(X_test)\n",
    "    acc = accuracy_score(y_test, y_pred)\n",
    "    f1 = f1_score(y_test, y_pred, average='macro')\n",
    "    duration = end - start\n",
    "\n",
    "    print(f\"\\n{name} Performance:\")\n",
    "    print(f\"Accuracy  : {acc:.4f}\")\n",
    "    print(f\"F1-Score  : {f1:.4f}\")\n",
    "    print(f\"Train Time: {duration:.4f} sec\")\n",
    "\n",
    "evaluate_model(\"Decision Tree\", DecisionTreeClassifier(random_state=42), X_train, X_test, y_train, y_test)\n",
    "evaluate_model(\"Random Forest\", RandomForestClassifier(n_estimators=100, random_state=42), X_train, X_test, y_train, y_test)"
   ]
  },
  {
   "cell_type": "markdown",
   "id": "7d08d0a1",
   "metadata": {},
   "source": [
    "<div align=\"center\">\n",
    "\n",
    "<h2>Thank You!</h2>\n",
    "\n",
    "</div>\n"
   ]
  }
 ],
 "metadata": {
  "kernelspec": {
   "display_name": "Python 3",
   "language": "python",
   "name": "python3"
  },
  "language_info": {
   "codemirror_mode": {
    "name": "ipython",
    "version": 3
   },
   "file_extension": ".py",
   "mimetype": "text/x-python",
   "name": "python",
   "nbconvert_exporter": "python",
   "pygments_lexer": "ipython3",
   "version": "3.10.10"
  }
 },
 "nbformat": 4,
 "nbformat_minor": 5
}
